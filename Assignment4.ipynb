{
  "nbformat": 4,
  "nbformat_minor": 0,
  "metadata": {
    "colab": {
      "provenance": [],
      "collapsed_sections": [
        "iwyytZTcFKvt",
        "-KT5OywiTEFC",
        "_eoDrnb8UQ6f",
        "TzZ1W2_VUT6G",
        "bPm8BBwpUVO1",
        "ke0xqnFEUbk-",
        "l-SqRcD4Uc4w",
        "6N-39zbzUgA4"
      ],
      "authorship_tag": "ABX9TyPoKUvP4C4aQDQNqXZKNgG2",
      "include_colab_link": true
    },
    "kernelspec": {
      "name": "python3",
      "display_name": "Python 3"
    },
    "language_info": {
      "name": "python"
    }
  },
  "cells": [
    {
      "cell_type": "markdown",
      "metadata": {
        "id": "view-in-github",
        "colab_type": "text"
      },
      "source": [
        "<a href=\"https://colab.research.google.com/github/jobende-OSU/CS4783-Assignment4/blob/main/Assignment4.ipynb\" target=\"_parent\"><img src=\"https://colab.research.google.com/assets/colab-badge.svg\" alt=\"Open In Colab\"/></a>"
      ]
    },
    {
      "cell_type": "code",
      "source": [
        "import numpy as np\n",
        "import pandas as pd\n",
        "import matplotlib.pyplot as plt\n",
        "from math import exp\n",
        "from sklearn.tree import DecisionTreeClassifier, plot_tree\n",
        "from google.colab import drive\n",
        "drive.mount('/content/drive')\n",
        "\n",
        "train_data = pd.read_excel(\"/content/drive/MyDrive/Asssignment4_Data.xlsx\", \"Train\")\n",
        "test_data = pd.read_excel(\"/content/drive/MyDrive/Asssignment4_Data.xlsx\", \"Test\")"
      ],
      "metadata": {
        "colab": {
          "base_uri": "https://localhost:8080/"
        },
        "id": "UU9PJlhIDUmJ",
        "outputId": "fedb9d26-074f-41eb-8205-76ddd91884ab"
      },
      "execution_count": 16,
      "outputs": [
        {
          "output_type": "stream",
          "name": "stdout",
          "text": [
            "Drive already mounted at /content/drive; to attempt to forcibly remount, call drive.mount(\"/content/drive\", force_remount=True).\n"
          ]
        }
      ]
    },
    {
      "cell_type": "markdown",
      "source": [
        "# Question 1"
      ],
      "metadata": {
        "id": "B-VofWOaCk6Z"
      }
    },
    {
      "cell_type": "markdown",
      "source": [
        "## Part 1"
      ],
      "metadata": {
        "id": "oFw9U4aYDBaH"
      }
    },
    {
      "cell_type": "markdown",
      "source": [
        "We need to calculate the conditional probability distribution for local price, bathrooms, land area, living area, the number of garages, the number of rooms, the number of bedrooms, and the age of the home.\n",
        "\n",
        "Let's walk through the calculations of two of these in depth, as they all follow the same process. \n",
        "\n",
        "In order to save some time, all discussed intermediate steps were individually calculated using a summation calculator and the scientific calculator automatically presented by Google when typing in a basic equation."
      ],
      "metadata": {
        "id": "8URdqD23D1NN"
      }
    },
    {
      "cell_type": "markdown",
      "source": [
        "#### Local Price"
      ],
      "metadata": {
        "id": "iwyytZTcFKvt"
      }
    },
    {
      "cell_type": "markdown",
      "source": [
        "Because this data is continuous, we need to assume it follows a normal distribution and model it based on that.\n",
        "\n",
        "Thus the formula we will use for calculating the conditional probability is $\\hat{P}(X_j | C = c_i)=\\frac{1}{\\sqrt{2\\pi}\\sigma_{ji}}\\exp{\\left(-\\frac{(X_j-\\mu_{ji})^2}{2\\sigma^2_{ji}}\\right)}$."
      ],
      "metadata": {
        "id": "m4kJQElcFMuQ"
      }
    },
    {
      "cell_type": "markdown",
      "source": [
        "To use this formula, we first need to find the sample mean and sample standard deviation of the local price for houses, condos, and apartments."
      ],
      "metadata": {
        "id": "s-aA2J6VE1em"
      }
    },
    {
      "cell_type": "markdown",
      "source": [
        "$\\mu_{\\mathit{house}}=\\frac{\\sum{x_i}}{7}= 5.760742857$\n",
        "\n",
        "$\\sum_{i=1}^{7}(x_i-\\mu_{\\mathit{house}})^2 = 1.950229577$\n",
        "\n",
        "$s_{\\mathit{house}}=\\sqrt{\\frac{1}{6}*\\sum_{i=1}^{7}(x_i-\\mu_{\\mathit{house}})^2}=0.570121270$"
      ],
      "metadata": {
        "id": "q9DNbt-4IgIG"
      }
    },
    {
      "cell_type": "markdown",
      "source": [
        "$\\mu_{\\mathit{condo}}=\\frac{\\sum{x_i}}{6}=7.4159$\n",
        "\n",
        "$\\sum_{i=1}^{6}(x_i-\\mu_{\\mathit{condo}})^2 = 106.31803404$\n",
        "\n",
        "$s_{\\mathit{condo}}=\\sqrt{\\frac{1}{5}*\\sum_{i=1}^{6}(x_i-\\mu_{\\mathit{condo}})^2}=4.611247858$"
      ],
      "metadata": {
        "id": "yoH92a_Qv39H"
      }
    },
    {
      "cell_type": "markdown",
      "source": [
        "$\\mu_{\\mathit{apartment}}=\\frac{\\sum{x_i}}{7}=7.332742857$\n",
        "\n",
        "$\\sum_{i=1}^{7}(x_i-\\mu_{\\mathit{apartment}})^2 = 78.452616037$\n",
        "\n",
        "$s_{\\mathit{apartment}}=\\sqrt{\\frac{1}{6}*\\sum_{i=1}^{7}(x_i-\\mu_{\\mathit{apartment}})^2}=3.615997235$"
      ],
      "metadata": {
        "id": "01TWb7knLZ6w"
      }
    },
    {
      "cell_type": "markdown",
      "source": [
        "After doing the calculations, we find that houses have a sample mean and sample standard deviation of 5.760742857 and 0.570121270, condos have 7.4159 and 4.611247858, and apartments have 7.332743857 and 3.615997235.\n",
        "\n",
        "With these values, we can finally rewrite and simplify the equation for our probabilities as follows."
      ],
      "metadata": {
        "id": "p4dQlQoCMcIK"
      }
    },
    {
      "cell_type": "markdown",
      "source": [
        "$\\hat{P}(X | \\mathit{house})=\\frac{1}{\\sqrt{2\\pi}s_{\\mathit{house}}}\\exp{\\left(-\\frac{(X-\\mu_{\\mathit{house}})^2}{2s^2_{\\mathit{house}}}\\right)}$\n",
        "\n",
        "$\\hat{P}(X | \\mathit{house})=0.69974986269*\\exp{\\left(-\\frac{(X-5.760742857)^2}{0.65007652501}\\right)}$"
      ],
      "metadata": {
        "id": "K5zRHcxmP34B"
      }
    },
    {
      "cell_type": "markdown",
      "source": [
        "$\\hat{P}(X | \\mathit{condo})=\\frac{1}{\\sqrt{2\\pi}s_{\\mathit{condo}}}\\exp{\\left(-\\frac{(X-\\mu_{\\mathit{condo}})^2}{2s^2_{\\mathit{condo}}}\\right)}$\n",
        "\n",
        "$\\hat{P}(X | \\mathit{condo})=0.08651503729*\\exp{\\left(-\\frac{(X-7.4159)^2}{42.5272136158}\\right)}$"
      ],
      "metadata": {
        "id": "tIqqn5Qjx6xr"
      }
    },
    {
      "cell_type": "markdown",
      "source": [
        "$\\hat{P}(X | \\mathit{apartment})=\\frac{1}{\\sqrt{2\\pi}s_{\\mathit{apartment}}}\\exp{\\left(-\\frac{(X-\\mu_{\\mathit{apartment}})^2}{2s^2_{\\mathit{apartment}}}\\right)}$\n",
        "\n",
        "$\\hat{P}(X | \\mathit{apartment})=0.11032704243*\\exp{\\left(-\\frac{(X-7.332742857)^2}{26.1508720071}\\right)}$"
      ],
      "metadata": {
        "id": "BzGCXPbNR1DH"
      }
    },
    {
      "cell_type": "markdown",
      "source": [
        "#### Bathrooms"
      ],
      "metadata": {
        "id": "-KT5OywiTEFC"
      }
    },
    {
      "cell_type": "markdown",
      "source": [
        "Again, we must use assume a normal distribution and use $\\hat{P}(X_j | C = c_i)=\\frac{1}{\\sqrt{2\\pi}\\sigma_{ji}}\\exp{\\left(-\\frac{(X_j-\\mu_{ji})^2}{2\\sigma^2_{ji}}\\right)}$ as our formula for the conditional probabilities, which requires us to find the means and standard deviations for each class."
      ],
      "metadata": {
        "id": "zsg_FzvRTJk_"
      }
    },
    {
      "cell_type": "markdown",
      "source": [
        "$\\mu_{\\mathit{house}}=\\frac{\\sum{x_i}}{7}=1.071428571$\n",
        "\n",
        "$\\sum_{i=1}^{7}(x_i-\\mu_{\\mathit{house}})^2=0.214285714$\n",
        "\n",
        "$s_{\\mathit{house}}=\\sqrt{\\frac{1}{6}*\\sum_{i=1}^{7}(x_i-\\mu_{\\mathit{house}})^2}=0.188982237$"
      ],
      "metadata": {
        "id": "shGuy-_BTbyB"
      }
    },
    {
      "cell_type": "markdown",
      "source": [
        "$\\mu_{\\mathit{condo}}=\\frac{\\sum{x_i}}{6}=1.333333333$\n",
        "\n",
        "$\\sum_{i=1}^{6}(x_i-\\mu_{\\mathit{condo}})^2 = 1.833333333$\n",
        "\n",
        "$s_{\\mathit{condo}}=\\sqrt{\\frac{1}{5}*\\sum_{i=1}^{6}(x_i-\\mu_{\\mathit{condo}})^2}=0.605530071$"
      ],
      "metadata": {
        "id": "EdOiEHvezBOK"
      }
    },
    {
      "cell_type": "markdown",
      "source": [
        "$\\mu_{\\mathit{apartment}}=\\frac{\\sum{x_i}}{7}=1.285714286$\n",
        "\n",
        "$\\sum_{i=1}^{7}(x_i-\\mu_{\\mathit{apartment}})^2=1.928571429$\n",
        "\n",
        "$s_{\\mathit{apartment}}=\\sqrt{\\frac{1}{6}*\\sum_{i=1}^{7}(x_i-\\mu_{\\mathit{apartment}})^2}=0.566946710$"
      ],
      "metadata": {
        "id": "HC3lnlOETdad"
      }
    },
    {
      "cell_type": "markdown",
      "source": [
        "After the calculations, we find that the sample mean and sample deviation for bathrooms in houses is 1.071428571 and 0.188982237, in condos it's 1.333333333 and 0.605530071, and in apartments it's 1.285714286 and 0.566946710.\n",
        "\n",
        "We can now use these in our formula to rewrite it as such."
      ],
      "metadata": {
        "id": "KdJLEAI-ZMff"
      }
    },
    {
      "cell_type": "markdown",
      "source": [
        "$\\hat{P}(X | \\mathit{house})=\\frac{1}{\\sqrt{2\\pi}s_{\\mathit{house}}}\\exp{\\left(-\\frac{(X-\\mu_{\\mathit{house}})^2}{2s^2_{\\mathit{house}}}\\right)}$\n",
        "\n",
        "$\\hat{P}(X | \\mathit{house})=2.11100411729*\\exp{\\left(-\\frac{(X-1.071428571)^2}{0.0714285718}\\right)}$"
      ],
      "metadata": {
        "id": "gnD4IF_SZh7H"
      }
    },
    {
      "cell_type": "markdown",
      "source": [
        "$\\hat{P}(X | \\mathit{condo})=\\frac{1}{\\sqrt{2\\pi}s_{\\mathit{condo}}}\\exp{\\left(-\\frac{(X-\\mu_{\\mathit{condo}})^2}{2s^2_{\\mathit{condo}}}\\right)}$\n",
        "\n",
        "$\\hat{P}(X | \\mathit{condo})=0.65883149245*\\exp{\\left(-\\frac{(X-1.333333333)^2}{0.73333333377}\\right)}$"
      ],
      "metadata": {
        "id": "x7iCMmJuy9Yp"
      }
    },
    {
      "cell_type": "markdown",
      "source": [
        "$\\hat{P}(X | \\mathit{apartment})=\\frac{1}{\\sqrt{2\\pi}s_{\\mathit{apartment}}}\\exp{\\left(-\\frac{(X-\\mu_{\\mathit{apartment}})^2}{2s^2_{\\mathit{apartment}}}\\right)}$\n",
        "\n",
        "$\\hat{P}(X | \\mathit{apartment})=0.70366804033*\\exp{\\left(-\\frac{(X-1.285714286)^2}{0.64285714396}\\right)}$"
      ],
      "metadata": {
        "id": "HfnDEGW_ZiBu"
      }
    },
    {
      "cell_type": "markdown",
      "source": [
        "Following the same method we used for these first two features, we find the conditional probabilities for the remaining features as seen below."
      ],
      "metadata": {
        "id": "eQAFkSaUUTyA"
      }
    },
    {
      "cell_type": "markdown",
      "source": [
        "#### Land Area"
      ],
      "metadata": {
        "id": "_eoDrnb8UQ6f"
      }
    },
    {
      "cell_type": "markdown",
      "source": [
        "$\\mu_{\\mathit{house}}=6.6309$\n",
        "\n",
        "$s_{\\mathit{house}}=2.248932183$"
      ],
      "metadata": {
        "id": "vWpqf-zfeS_a"
      }
    },
    {
      "cell_type": "markdown",
      "source": [
        "$\\mu_{\\mathit{condo}}=6.024666667$\n",
        "\n",
        "$s_{\\mathit{condo}}=2.544777371$"
      ],
      "metadata": {
        "id": "a9YH1gtl1fKY"
      }
    },
    {
      "cell_type": "markdown",
      "source": [
        "$\\mu_{\\mathit{apartment}}=6.103857143$\n",
        "\n",
        "$s_{\\mathit{apartment}}=3.258509497$"
      ],
      "metadata": {
        "id": "EGUiNAWFeZnD"
      }
    },
    {
      "cell_type": "markdown",
      "source": [
        "$\\hat{P}(X | \\mathit{house})=0.17739186775*\\exp{\\left(-\\frac{(X-6.6309)^2}{10.1153919275}\\right)}$\n",
        "\n",
        "$\\hat{P}(X | \\mathit{condo})=0.15676903015*\\exp{\\left(-\\frac{(X-6.024666667)^2}{12.9517837359}\\right)}$\n",
        "\n",
        "$\\hat{P}(X | \\mathit{apartment})=0.12243090921*\\exp{\\left(-\\frac{(X-6.103857143)^2}{21.2357682841}\\right)}$"
      ],
      "metadata": {
        "id": "fKT6Yv11ek07"
      }
    },
    {
      "cell_type": "markdown",
      "source": [
        "#### Living Area"
      ],
      "metadata": {
        "id": "TzZ1W2_VUT6G"
      }
    },
    {
      "cell_type": "markdown",
      "source": [
        "$\\mu_{\\mathit{house}}=1.391714286$\n",
        "\n",
        "$s_{\\mathit{house}}=0.212923863$"
      ],
      "metadata": {
        "id": "b_izPJTEe1vy"
      }
    },
    {
      "cell_type": "markdown",
      "source": [
        "$\\mu_{\\mathit{condo}}=1.553333333$\n",
        "\n",
        "$s_{\\mathit{condo}}=0.923441317$"
      ],
      "metadata": {
        "id": "E44Ol9mo1mNu"
      }
    },
    {
      "cell_type": "markdown",
      "source": [
        "$\\mu_{\\mathit{apartment}}=1.505$\n",
        "\n",
        "$s_{\\mathit{apartment}}=0.704105816$"
      ],
      "metadata": {
        "id": "06GuFC_Ne1vy"
      }
    },
    {
      "cell_type": "markdown",
      "source": [
        "$\\hat{P}(X | \\mathit{house})=1.87363818588*\\exp{\\left(-\\frac{(X-1.391714286)^2}{0.09067314286}\\right)}$\n",
        "\n",
        "$\\hat{P}(X | \\mathit{condo})=0.43201692739*\\exp{\\left(-\\frac{(X-1.553333333)^2}{1.70548773189}\\right)}$\n",
        "\n",
        "$\\hat{P}(X | \\mathit{apartment})=0.56659421259*\\exp{\\left(-\\frac{(X-1.505)^2}{0.99153000025}\\right)}$"
      ],
      "metadata": {
        "id": "1lPPzSV9e1vy"
      }
    },
    {
      "cell_type": "markdown",
      "source": [
        "#### Number of Garages"
      ],
      "metadata": {
        "id": "bPm8BBwpUVO1"
      }
    },
    {
      "cell_type": "markdown",
      "source": [
        "$\\mu_{\\mathit{house}}=1.071428571$\n",
        "\n",
        "$s_{\\mathit{house}}=0.838081710$"
      ],
      "metadata": {
        "id": "K9AiYNoce2QU"
      }
    },
    {
      "cell_type": "markdown",
      "source": [
        "$\\mu_{\\mathit{condo}}=1.333333333$\n",
        "\n",
        "$s_{\\mathit{condo}}=0.516397779$"
      ],
      "metadata": {
        "id": "xVnRJfKZ1mp4"
      }
    },
    {
      "cell_type": "markdown",
      "source": [
        "$\\mu_{\\mathit{apartment}}=1.214285714$\n",
        "\n",
        "$s_{\\mathit{apartment}}=0.698638131$"
      ],
      "metadata": {
        "id": "MSt1nKyLe2QV"
      }
    },
    {
      "cell_type": "markdown",
      "source": [
        "$\\hat{P}(X | \\mathit{house})=0.47601835911*\\exp{\\left(-\\frac{(X-1.071428571)^2}{1.40476190527}\\right)}$\n",
        "\n",
        "$\\hat{P}(X | \\mathit{condo})=0.77254840478*\\exp{\\left(-\\frac{(X-1.333333333)^2}{0.53333333231}\\right)}$\n",
        "\n",
        "$\\hat{P}(X | \\mathit{apartment})=0.57102849486*\\exp{\\left(-\\frac{(X-1.214285714)^2}{0.97619047617}\\right)}$"
      ],
      "metadata": {
        "id": "HJRDPagbe2QV"
      }
    },
    {
      "cell_type": "markdown",
      "source": [
        "#### Number of Rooms"
      ],
      "metadata": {
        "id": "ke0xqnFEUbk-"
      }
    },
    {
      "cell_type": "markdown",
      "source": [
        "$\\mu_{\\mathit{house}}=6.142857143$\n",
        "\n",
        "$s_{\\mathit{house}}=0.690065559$"
      ],
      "metadata": {
        "id": "c1Btg5dJe2sy"
      }
    },
    {
      "cell_type": "markdown",
      "source": [
        "$\\mu_{\\mathit{condo}}=6.833333333$\n",
        "\n",
        "$s_{\\mathit{condo}}=1.602081979$"
      ],
      "metadata": {
        "id": "SBnAPwwE1nCN"
      }
    },
    {
      "cell_type": "markdown",
      "source": [
        "$\\mu_{\\mathit{apartment}}=6.857142857$\n",
        "\n",
        "$s_{\\mathit{apartment}}=1.3451185418$"
      ],
      "metadata": {
        "id": "HbZxC210e2sy"
      }
    },
    {
      "cell_type": "markdown",
      "source": [
        "$\\hat{P}(X | \\mathit{house})=0.57812228881*\\exp{\\left(-\\frac{(X-6.142857143)^2}{0.95238095143}\\right)}$\n",
        "\n",
        "$\\hat{P}(X | \\mathit{condo})=0.24901489788*\\exp{\\left(-\\frac{(X-6.833333333)^2}{5.13333333487}\\right)}$\n",
        "\n",
        "$\\hat{P}(X | \\mathit{apartment})=0.2965852213*\\exp{\\left(-\\frac{(X-6.857142857)^2}{3.61868778299}\\right)}$"
      ],
      "metadata": {
        "id": "Ruffb5RLe2sy"
      }
    },
    {
      "cell_type": "markdown",
      "source": [
        "#### Number of Bedrooms"
      ],
      "metadata": {
        "id": "l-SqRcD4Uc4w"
      }
    },
    {
      "cell_type": "markdown",
      "source": [
        "$\\mu_{\\mathit{house}}=3$\n",
        "\n",
        "$s_{\\mathit{house}}=0.577350269$"
      ],
      "metadata": {
        "id": "sf1SKKuNe3KE"
      }
    },
    {
      "cell_type": "markdown",
      "source": [
        "$\\mu_{\\mathit{condo}}=3.333333333$\n",
        "\n",
        "$s_{\\mathit{condo}}=0.816496581$"
      ],
      "metadata": {
        "id": "cx-QENnT1naB"
      }
    },
    {
      "cell_type": "markdown",
      "source": [
        "$\\mu_{\\mathit{apartment}}=3.428571429$\n",
        "\n",
        "$s_{\\mathit{apartment}}=0.975900073$"
      ],
      "metadata": {
        "id": "okhjH2Lbe3KF"
      }
    },
    {
      "cell_type": "markdown",
      "source": [
        "$\\hat{P}(X | \\mathit{house})=0.69098829917*\\exp{\\left(-\\frac{(X-3)^2}{0.66666666622}\\right)}$\n",
        "\n",
        "$\\hat{P}(X | \\mathit{condo})=0.48860251186*\\exp{\\left(-\\frac{(X-3.333333333)^2}{1.33333333357}\\right)}$\n",
        "\n",
        "$\\hat{P}(X | \\mathit{apartment})=0.40879419055*\\exp{\\left(-\\frac{(X-3.428571429)^2}{1.90476190496}\\right)}$"
      ],
      "metadata": {
        "id": "MRVcJ90Pe3KF"
      }
    },
    {
      "cell_type": "markdown",
      "source": [
        "#### Age of Home"
      ],
      "metadata": {
        "id": "6N-39zbzUgA4"
      }
    },
    {
      "cell_type": "markdown",
      "source": [
        "$\\mu_{\\mathit{house}}=34.285714286$\n",
        "\n",
        "$s_{\\mathit{house}}=12.724180206$"
      ],
      "metadata": {
        "id": "meA2eNpce3qk"
      }
    },
    {
      "cell_type": "markdown",
      "source": [
        "$\\mu_{\\mathit{condo}}=39.666666667$\n",
        "\n",
        "$s_{\\mathit{condo}}=13.952299691$"
      ],
      "metadata": {
        "id": "wbP8pECQ1oMb"
      }
    },
    {
      "cell_type": "markdown",
      "source": [
        "$\\mu_{\\mathit{apartment}}=38.714285714$\n",
        "\n",
        "$s_{\\mathit{apartment}}=14.682350921$"
      ],
      "metadata": {
        "id": "q0ArO8lve3qk"
      }
    },
    {
      "cell_type": "markdown",
      "source": [
        "$\\hat{P}(X | \\mathit{house})=0.03135308318*\\exp{\\left(-\\frac{(X-34.285714286)^2}{323.80952383}\\right)}$\n",
        "\n",
        "$\\hat{P}(X | \\mathit{condo})=0.02859329925*\\exp{\\left(-\\frac{(X-39.666666667)^2}{389.333333335}\\right)}$\n",
        "\n",
        "$\\hat{P}(X | \\mathit{apartment})=0.02717155328*\\exp{\\left(-\\frac{(X-38.714285714)^2}{431.142857135}\\right)}$"
      ],
      "metadata": {
        "id": "X3R6i3Bqe3qk"
      }
    },
    {
      "cell_type": "markdown",
      "source": [
        "## Part 2"
      ],
      "metadata": {
        "id": "WhfN9HrODzxK"
      }
    },
    {
      "cell_type": "code",
      "source": [
        "condProbValues = {\n",
        "    \"Local Price\" : {\n",
        "        \"House\" : (0.69974986269, 5.760742857, 0.65007652501),\n",
        "        \"Condo\" : (0.08651503729, 7.4159, 42.5272136158),\n",
        "        \"Apartment\" : (0.11032704243, 7.332742857, 26.1508720071)\n",
        "    },\n",
        "    \"Bathrooms\" : {\n",
        "        \"House\" : (2.11100411729, 1.071428571, 0.0714285718),\n",
        "        \"Condo\" : (0.65883149245, 1.333333333, 0.73333333377),\n",
        "        \"Apartment\" : (0.70366804033, 1.285714286, 0.64285714396)\n",
        "    },\n",
        "    \"Land Area\" : {\n",
        "        \"House\" : (0.17739186775, 6.6309, 10.1153919275),\n",
        "        \"Condo\" : (0.15676903015, 6.024666667, 12.9517837359),\n",
        "        \"Apartment\" : (0.12243090921, 6.103857143, 21.2357682841)\n",
        "    },\n",
        "    \"Living area\" : {\n",
        "        \"House\" : (1.87363818588, 1.391714286, 0.09067314286),\n",
        "        \"Condo\" : (0.43201692739, 1.553333333, 1.70548773189),\n",
        "        \"Apartment\" : (0.56659421259, 1.505, 0.99153000025)\n",
        "    },\n",
        "    \"# Garages\" : {\n",
        "        \"House\" : (0.47601835911, 1.071428571, 1.40476190527),\n",
        "        \"Condo\" : (0.77254840478, 1.333333333, 0.53333333231),\n",
        "        \"Apartment\" : (0.57102849486, 1.214285714, 0.97619047617)\n",
        "    },\n",
        "    \"# Rooms\" : {\n",
        "        \"House\" : (0.57812228881, 6.142857143, 0.95238095143),\n",
        "        \"Condo\" : (0.24901489788, 6.833333333, 5.13333333487),\n",
        "        \"Apartment\" : (0.2965852213, 6.857142857, 3.61868778299)\n",
        "    },\n",
        "    \"# Bedrooms\" : {\n",
        "        \"House\" : (0.69098829917, 3, 0.66666666622),\n",
        "        \"Condo\" : (0.48860251186, 3.333333333, 1.33333333357),\n",
        "        \"Apartment\" : (0.40879419055, 3.428571429, 1.90476190496)\n",
        "    },\n",
        "    \"Age of home\" : {\n",
        "        \"House\" : (0.03135308318, 34.285714286, 323.80952383),\n",
        "        \"Condo\" : (0.02859329925, 39.666666667, 389.333333335),\n",
        "        \"Apartment\" : (0.02717155328, 38.714285714, 431.142857135)\n",
        "    },\n",
        "}\n",
        "\n",
        "totalProbValues = {\n",
        "    \"House\" : 7.0/20,\n",
        "    \"Condo\" : 6.0/20,\n",
        "    \"Apartment\" : 7.0/20\n",
        "}\n",
        "\n",
        "features = ['Local Price', 'Bathrooms', 'Land Area', 'Living area', \n",
        "            '# Garages', '# Rooms', '# Bedrooms', 'Age of home']\n",
        "labels = ['House', 'Condo', 'Apartment']"
      ],
      "metadata": {
        "id": "zzt1cu38D1oP"
      },
      "execution_count": 2,
      "outputs": []
    },
    {
      "cell_type": "code",
      "source": [
        "def calculateProbability(x, feature, label):\n",
        "  values = condProbValues[feature][label]\n",
        "  return values[0] * exp(-pow(x[feature] - values[1], 2) / values[2])\n",
        "\n",
        "def mapClassify(example):\n",
        "  labelProbabilities = []\n",
        "  for label in labels:\n",
        "    labelProbabilities.append(np.prod([calculateProbability(example, feature, \n",
        "      label) for feature in features]) * totalProbValues[label])\n",
        "  classification = labelProbabilities.index(max(labelProbabilities))\n",
        "  return classification, labelProbabilities"
      ],
      "metadata": {
        "id": "OtzC7uUO9QK8"
      },
      "execution_count": 3,
      "outputs": []
    },
    {
      "cell_type": "code",
      "source": [
        "for i in range(len(test_data)):\n",
        "  example = test_data.iloc[i]\n",
        "  classification, probabilities = mapClassify(example)\n",
        "  houseId = example['House ID']\n",
        "  print(f'House {houseId}:\\n' + \n",
        "        f'\\tHouse = {probabilities[0]}\\n' +\n",
        "        f'\\tCondo = {probabilities[1]}\\n' +\n",
        "        f'\\tApartment = {probabilities[2]}\\n' +\n",
        "        f'\\tMAP Classification is {labels[classification]}')"
      ],
      "metadata": {
        "colab": {
          "base_uri": "https://localhost:8080/"
        },
        "id": "psOmZSwYCmMg",
        "outputId": "c2c717f1-9db4-4e81-f2f2-8bfa3558b245"
      },
      "execution_count": 4,
      "outputs": [
        {
          "output_type": "stream",
          "name": "stdout",
          "text": [
            "House 24:\n",
            "\tHouse = 2.2783761468606152e-05\n",
            "\tCondo = 1.711734160314212e-06\n",
            "\tApartment = 1.9822059109403403e-06\n",
            "\tMAP Classification is House\n",
            "House 25:\n",
            "\tHouse = 4.480055701344146e-13\n",
            "\tCondo = 2.6791172915771636e-07\n",
            "\tApartment = 4.85577615019007e-07\n",
            "\tMAP Classification is Apartment\n",
            "House 26:\n",
            "\tHouse = 1.3881285442430965e-09\n",
            "\tCondo = 2.4566703623555982e-08\n",
            "\tApartment = 6.403182003877926e-08\n",
            "\tMAP Classification is Apartment\n",
            "House 27:\n",
            "\tHouse = 1.0402164147952439e-15\n",
            "\tCondo = 1.008087240120738e-06\n",
            "\tApartment = 1.1475612827233422e-06\n",
            "\tMAP Classification is Apartment\n",
            "House 28:\n",
            "\tHouse = 1.978270158939522e-31\n",
            "\tCondo = 4.305093217703079e-07\n",
            "\tApartment = 4.074411250313946e-07\n",
            "\tMAP Classification is Condo\n"
          ]
        }
      ]
    },
    {
      "cell_type": "markdown",
      "source": [
        "# Question 2"
      ],
      "metadata": {
        "id": "hHHfwJDCCnj0"
      }
    },
    {
      "cell_type": "code",
      "source": [
        "train_data_x, test_data_x = train_data.drop(columns=['Construction type', 'House ID']), test_data.drop(columns=['Construction type', 'House ID'])\n",
        "train_data_y, test_data_y = train_data['Construction type'], test_data['Construction type']\n",
        "\n",
        "train_data_x = np.reshape(train_data_x.values, (train_data_x.shape[0], -1))\n",
        "train_data_y = np.reshape(train_data_y.values, -1)\n",
        "test_data_x = np.reshape(test_data_x.values, (test_data_x.shape[0], -1))\n",
        "test_data_y = np.reshape(test_data_y.values, -1)"
      ],
      "metadata": {
        "id": "JbUejBoRX1IO"
      },
      "execution_count": 5,
      "outputs": []
    },
    {
      "cell_type": "markdown",
      "source": [
        "## Part 1"
      ],
      "metadata": {
        "id": "vDxLMD5FCj2j"
      }
    },
    {
      "cell_type": "code",
      "source": [
        "tree = DecisionTreeClassifier()\n",
        "tree.fit(train_data_x, train_data_y)"
      ],
      "metadata": {
        "colab": {
          "base_uri": "https://localhost:8080/"
        },
        "id": "vkGNShaPDNID",
        "outputId": "281d08e6-a449-4d94-eb35-530cf4f9ac76"
      },
      "execution_count": 6,
      "outputs": [
        {
          "output_type": "execute_result",
          "data": {
            "text/plain": [
              "DecisionTreeClassifier()"
            ]
          },
          "metadata": {},
          "execution_count": 6
        }
      ]
    },
    {
      "cell_type": "code",
      "source": [
        "predictions = tree.predict(test_data_x)\n",
        "for i in range(len(test_data_y)):\n",
        "  print(f'Predicted: {predictions[i]}\\tExpected: {test_data_y[i]}')"
      ],
      "metadata": {
        "colab": {
          "base_uri": "https://localhost:8080/"
        },
        "id": "vf2Ass-2YaBk",
        "outputId": "381e63f4-1aa3-4e6c-c53e-adc2d171007b"
      },
      "execution_count": 7,
      "outputs": [
        {
          "output_type": "stream",
          "name": "stdout",
          "text": [
            "Predicted: Condo\tExpected: Apartment\n",
            "Predicted: Condo\tExpected: House\n",
            "Predicted: Condo\tExpected: House\n",
            "Predicted: Apartment\tExpected: Apartment\n",
            "Predicted: Apartment\tExpected: Apartment\n"
          ]
        }
      ]
    },
    {
      "cell_type": "markdown",
      "source": [
        "#### Part A"
      ],
      "metadata": {
        "id": "gou0YVBuCxRj"
      }
    },
    {
      "cell_type": "code",
      "source": [
        "print(f'Accuracy: {tree.score(train_data_x, train_data_y):%}')"
      ],
      "metadata": {
        "colab": {
          "base_uri": "https://localhost:8080/"
        },
        "id": "bvoi7FINZG3K",
        "outputId": "76e0d37b-947a-487a-b4f1-77fdbe7240d2"
      },
      "execution_count": 8,
      "outputs": [
        {
          "output_type": "stream",
          "name": "stdout",
          "text": [
            "Accuracy: 100.000000%\n"
          ]
        }
      ]
    },
    {
      "cell_type": "markdown",
      "source": [
        "Using default parameters, it has 100% accuracy on the training set. This is expected since it would have gone to as far of a depth as to ensure every possible feature and example was considered and overfitted to."
      ],
      "metadata": {
        "id": "fDlq8OfnDB_t"
      }
    },
    {
      "cell_type": "markdown",
      "source": [
        "#### Part B"
      ],
      "metadata": {
        "id": "W5ZxYG3-C37s"
      }
    },
    {
      "cell_type": "code",
      "source": [
        "print(f'Accuracy: {tree.score(test_data_x, test_data_y):%}')"
      ],
      "metadata": {
        "colab": {
          "base_uri": "https://localhost:8080/"
        },
        "id": "M9xD8t1LDNjy",
        "outputId": "7f9dd79f-9cfc-41bf-b5a5-bf4d950f1913"
      },
      "execution_count": 9,
      "outputs": [
        {
          "output_type": "stream",
          "name": "stdout",
          "text": [
            "Accuracy: 40.000000%\n"
          ]
        }
      ]
    },
    {
      "cell_type": "markdown",
      "source": [
        "Using default parameters, it has a 40% accuracy on the test set. This is expected since the default settings do not have any regularization and thus allowed the tree to overfit to the training set."
      ],
      "metadata": {
        "id": "n-CohB0iDCWd"
      }
    },
    {
      "cell_type": "markdown",
      "source": [
        "## Part 2"
      ],
      "metadata": {
        "id": "DS8QGR8RC6oR"
      }
    },
    {
      "cell_type": "code",
      "source": [
        "for depth in range(1, 6):\n",
        "  tree = DecisionTreeClassifier(max_depth=depth)\n",
        "  tree.fit(train_data_x, train_data_y)\n",
        "  print(f'Depth {depth}:')\n",
        "  print(f'\\tTraining Accuracy: {tree.score(train_data_x, train_data_y):%}')\n",
        "  print(f'\\t Testing Accuracy: {tree.score(test_data_x, test_data_y):%}')"
      ],
      "metadata": {
        "colab": {
          "base_uri": "https://localhost:8080/"
        },
        "id": "kq7mA8b7ahR-",
        "outputId": "ec9ed536-d690-439b-c8e4-8b431f5e9def"
      },
      "execution_count": 10,
      "outputs": [
        {
          "output_type": "stream",
          "name": "stdout",
          "text": [
            "Depth 1:\n",
            "\tTraining Accuracy: 55.000000%\n",
            "\t Testing Accuracy: 40.000000%\n",
            "Depth 2:\n",
            "\tTraining Accuracy: 75.000000%\n",
            "\t Testing Accuracy: 80.000000%\n",
            "Depth 3:\n",
            "\tTraining Accuracy: 90.000000%\n",
            "\t Testing Accuracy: 40.000000%\n",
            "Depth 4:\n",
            "\tTraining Accuracy: 95.000000%\n",
            "\t Testing Accuracy: 40.000000%\n",
            "Depth 5:\n",
            "\tTraining Accuracy: 100.000000%\n",
            "\t Testing Accuracy: 40.000000%\n"
          ]
        }
      ]
    },
    {
      "cell_type": "markdown",
      "source": [
        "Restricting the maximum depth of the tree has a profound effect on its generalization. After testing the depths between 1 and 5, a depth of 2 was found to have the best generalization, with an accuracy of 75% on the training set and 80% on the testing set."
      ],
      "metadata": {
        "id": "upVx1BX9DDFr"
      }
    },
    {
      "cell_type": "markdown",
      "source": [
        "## Part 3"
      ],
      "metadata": {
        "id": "24FtJmtcC7-e"
      }
    },
    {
      "cell_type": "markdown",
      "source": [
        "Restricting the depth has such an intense effect on the classifier's performance because it prevents it from being able to overfit to the entire training set. There aren't enough splits to consider every feature fully, so it is forced to generalized greatly."
      ],
      "metadata": {
        "id": "RUiq7_LuDE-R"
      }
    },
    {
      "cell_type": "markdown",
      "source": [
        "## Part 4"
      ],
      "metadata": {
        "id": "YhfDDp36C9bc"
      }
    },
    {
      "cell_type": "code",
      "source": [
        "tree = DecisionTreeClassifier(max_depth=2)\n",
        "tree.fit(train_data_x, train_data_y)\n",
        "plt.figure(dpi=128)\n",
        "plot_tree(tree, feature_names=features, class_names=labels, impurity=False)\n",
        "pass"
      ],
      "metadata": {
        "colab": {
          "base_uri": "https://localhost:8080/",
          "height": 429
        },
        "id": "1lrfE1YcDJeI",
        "outputId": "e1598bde-5b7f-4c94-8d7b-66ebe8e3e078"
      },
      "execution_count": 11,
      "outputs": [
        {
          "output_type": "display_data",
          "data": {
            "text/plain": [
              "<Figure size 768x512 with 1 Axes>"
            ],
            "image/png": "[encoded data removed]"
          },
          "metadata": {
            "needs_background": "light"
          }
        }
      ]
    },
    {
      "cell_type": "markdown",
      "source": [
        "Using the example given by the instructions, we can make a classification by tracing its path in the above tree we found in Part 2. Note that the above code can generate two variations of this tree, but the more common one involving age of home, local price, and land area is being used for this classification.\n",
        "\n",
        "Starting from the root, we check to see if the age of the home is less than or equal to 36, which 23 obviously is, so we head right. We then look to see if land area is less than or equal to 5.5, which 7.8 is not, so we head left. We then reach a leaf node and classify our example as a house."
      ],
      "metadata": {
        "id": "zDmKZ48KDFXY"
      }
    },
    {
      "cell_type": "markdown",
      "source": [
        "# Question 3"
      ],
      "metadata": {
        "id": "DRx_3KDuCpb4"
      }
    },
    {
      "cell_type": "code",
      "source": [
        "def euclidean_dist(X, Y):\n",
        "  return pow(np.sum(pow(X - Y, 2)), 0.5)\n",
        "\n",
        "def find_neighbors(example, train_x, train_y, k):\n",
        "  # Get the sorted euclidean distances with all points.\n",
        "  distances = [(train_y[i], euclidean_dist(example, train_x[i])) for i in range(len(train_x))]\n",
        "  distances.sort(key=lambda entry: entry[1])\n",
        "  \n",
        "  # Get the k closest points as the neighbors.\n",
        "  neighbors = [distances[i][0] for i in range(k)]\n",
        "  return neighbors, distances\n",
        "\n",
        "def kNN_classify(example, train_x, train_y, k):\n",
        "  neighbors, _ = find_neighbors(example, train_x, train_y, k)\n",
        "  classes, freq = np.unique(neighbors, return_counts=True)\n",
        "  prediction = classes[np.argmax(freq)]\n",
        "  return prediction\n",
        "\n",
        "def normalize_features(train, test):\n",
        "  # Get sample means.\n",
        "  sample_means = [0 for i in range(len(train[0]))]\n",
        "  for example in train:\n",
        "    sample_means += example\n",
        "  sample_means /= float(len(train))\n",
        "\n",
        "  # Get sample standard deviation.\n",
        "  summations = [np.sum(pow(train - sample_means, 2))]\n",
        "  divisions = [sum / float(len(train)) for sum in summations]\n",
        "  sample_deviations = [pow(division, 0.5) for division in divisions]\n",
        "\n",
        "  # Normalize the features.\n",
        "  newTrain = [example / sample_deviations for example in train]\n",
        "  newTest = [example / sample_deviations for example in test]\n",
        "  return newTrain, newTest\n"
      ],
      "metadata": {
        "id": "KSsnv5ClDQWV"
      },
      "execution_count": 12,
      "outputs": []
    },
    {
      "cell_type": "code",
      "source": [
        "# Normalize the features since they are of different units.\n",
        "normal_train, normal_test = normalize_features(train_data_x, test_data_x)"
      ],
      "metadata": {
        "id": "zMHjBFu6v6f3"
      },
      "execution_count": 13,
      "outputs": []
    },
    {
      "cell_type": "code",
      "source": [
        "# Make classifications using between 1 and 5 for k.\n",
        "for k in range(1, 6):\n",
        "  correct = 0\n",
        "  print(f'k = {k}:')\n",
        "\n",
        "  # Classify for each test example.\n",
        "  for i in range(len(test_data_x)):\n",
        "    # Get the example and make a classification.\n",
        "    example = normal_test[i]\n",
        "    classification = kNN_classify(example, normal_train, train_data_y, k)\n",
        "\n",
        "    # Print the predicted and expected class for this example.\n",
        "    houseId = test_data.iloc[i]['House ID']\n",
        "    print(f'\\tHouse {houseId}: Predicted={classification}, Expected={test_data_y[i]}')\n",
        "\n",
        "    # Keep track of the accuracy for this choice of k.\n",
        "    if classification == test_data_y[i]:\n",
        "      correct += 1\n",
        "\n",
        "  # Print the accuracy for this choice of k.\n",
        "  print(f'Testing Accuracy: {float(correct) / len(test_data_x):%}\\n')"
      ],
      "metadata": {
        "colab": {
          "base_uri": "https://localhost:8080/"
        },
        "id": "I-YA-6j1i9Fk",
        "outputId": "4eadc6a0-c8a7-4eb4-8c99-6c70f5459dfc"
      },
      "execution_count": 14,
      "outputs": [
        {
          "output_type": "stream",
          "name": "stdout",
          "text": [
            "k = 1:\n",
            "\tHouse 24: Predicted=Apartment, Expected=Apartment\n",
            "\tHouse 25: Predicted=Apartment, Expected=House\n",
            "\tHouse 26: Predicted=Apartment, Expected=House\n",
            "\tHouse 27: Predicted=Condo, Expected=Apartment\n",
            "\tHouse 28: Predicted=House, Expected=Apartment\n",
            "Testing Accuracy: 20.000000%\n",
            "\n",
            "k = 2:\n",
            "\tHouse 24: Predicted=Apartment, Expected=Apartment\n",
            "\tHouse 25: Predicted=Apartment, Expected=House\n",
            "\tHouse 26: Predicted=Apartment, Expected=House\n",
            "\tHouse 27: Predicted=Condo, Expected=Apartment\n",
            "\tHouse 28: Predicted=Condo, Expected=Apartment\n",
            "Testing Accuracy: 20.000000%\n",
            "\n",
            "k = 3:\n",
            "\tHouse 24: Predicted=Apartment, Expected=Apartment\n",
            "\tHouse 25: Predicted=Apartment, Expected=House\n",
            "\tHouse 26: Predicted=Apartment, Expected=House\n",
            "\tHouse 27: Predicted=House, Expected=Apartment\n",
            "\tHouse 28: Predicted=House, Expected=Apartment\n",
            "Testing Accuracy: 20.000000%\n",
            "\n",
            "k = 4:\n",
            "\tHouse 24: Predicted=Apartment, Expected=Apartment\n",
            "\tHouse 25: Predicted=Apartment, Expected=House\n",
            "\tHouse 26: Predicted=Apartment, Expected=House\n",
            "\tHouse 27: Predicted=House, Expected=Apartment\n",
            "\tHouse 28: Predicted=House, Expected=Apartment\n",
            "Testing Accuracy: 20.000000%\n",
            "\n",
            "k = 5:\n",
            "\tHouse 24: Predicted=Apartment, Expected=Apartment\n",
            "\tHouse 25: Predicted=Apartment, Expected=House\n",
            "\tHouse 26: Predicted=Apartment, Expected=House\n",
            "\tHouse 27: Predicted=House, Expected=Apartment\n",
            "\tHouse 28: Predicted=House, Expected=Apartment\n",
            "Testing Accuracy: 20.000000%\n",
            "\n"
          ]
        }
      ]
    },
    {
      "cell_type": "markdown",
      "source": [
        "When using a majority vote for predictions and trying different numbers of neighbors between 1 and 5, we see that the accuracy of predictions on the test set don't change. Internally, increasing the number of neighbors does increase the bias and improve generalization, but the nature of the test data hides this improvement. This is better explained by graphing the Euclidean distances for one of the test examples as seen below."
      ],
      "metadata": {
        "id": "bP-49Rl-3cjA"
      }
    },
    {
      "cell_type": "code",
      "source": [
        "k = 1\n",
        "example = normal_test[3]\n",
        "_, distances = find_neighbors(example, normal_train, train_data_y, k)\n",
        "\n",
        "# Set up the figure.\n",
        "fig = plt.figure(dpi=96)\n",
        "ax = fig.add_subplot(111)\n",
        "ax.set_xlim(0, 2)\n",
        "ax.set_ylim(3, 6.5)\n",
        "\n",
        "# Settings for the number line.\n",
        "xmin = 0\n",
        "xmax = 2\n",
        "y = 5\n",
        "height = 1\n",
        "\n",
        "# Create the number line.\n",
        "plt.hlines(y, xmin, xmax)\n",
        "plt.vlines(xmin, y - height / 2.0, y + height / 2.0)\n",
        "plt.vlines(xmax, y - height / 2.0, y + height / 2.0)\n",
        "\n",
        "# Hold a list of colors for each label.\n",
        "colors = {\n",
        "    'House':'r', \n",
        "    'Condo':'g', \n",
        "    'Apartment':'b'\n",
        "}\n",
        "\n",
        "# Plot points of specific classes in order so that overlaps can be seen better.\n",
        "for point in distances:\n",
        "  if point[0] == 'House':\n",
        "    plt.plot(point[1], y, 'ro', ms = 15, mfc = colors[point[0]])\n",
        "for point in distances:\n",
        "  if point[0] == 'Condo':\n",
        "    plt.plot(point[1], y, 'go', ms = 10, mfc = colors[point[0]])\n",
        "for point in distances:\n",
        "  if point[0] == 'Apartment':\n",
        "    plt.plot(point[1], y, 'bo', ms = 5, mfc = colors[point[0]])\n",
        "\n",
        "# Plot fake points out of view for the legend.\n",
        "plt.plot(-1, y, 'ro', ms = 15, mfc = colors['House'], label='House')\n",
        "plt.plot(-1, y, 'go', ms = 15, mfc = colors['Condo'], label='Condo')\n",
        "plt.plot(-1, y, 'bo', ms = 15, mfc = colors['Apartment'], label='Apartment')\n",
        "\n",
        "# Add in the legend and title.\n",
        "plt.legend(frameon=False, loc='lower center', ncol=3)\n",
        "plt.title('Euclidean Distances for House 27')\n",
        "\n",
        "# Turn off the axis and add labels for each side of the line.\n",
        "plt.text(xmin - 0.1, y, '0', horizontalalignment='right')\n",
        "plt.text(xmax + 0.1, y, '2', horizontalalignment='left')\n",
        "plt.axis('off')\n",
        "\n",
        "# Print the five closest neighbors.\n",
        "for neighbor in distances[:5]:\n",
        "  print(f'Distance: {neighbor[1]}\\tType: {neighbor[0]}')"
      ],
      "metadata": {
        "colab": {
          "base_uri": "https://localhost:8080/",
          "height": 435
        },
        "id": "MdYLAviUVkso",
        "outputId": "3eda6bf5-136f-4951-a663-64ddb1e6492b"
      },
      "execution_count": 17,
      "outputs": [
        {
          "output_type": "stream",
          "name": "stdout",
          "text": [
            "Distance: 0.3066480580092534\tType: Condo\n",
            "Distance: 0.31586944775044873\tType: House\n",
            "Distance: 0.37260037273406765\tType: House\n",
            "Distance: 0.37260037273406765\tType: House\n",
            "Distance: 0.3782839506095552\tType: House\n"
          ]
        },
        {
          "output_type": "display_data",
          "data": {
            "text/plain": [
              "<Figure size 576x384 with 1 Axes>"
            ],
            "image/png": "[encoded data removed]"
          },
          "metadata": {
            "needs_background": "light"
          }
        }
      ]
    },
    {
      "cell_type": "markdown",
      "source": [
        "By graphing the Euclidean distances for House 27 on a number line and listing the 5 smallest distances, we can see that the house class is generally closest to it in terms of our metric, which it is accurately generalizing to as we increase the number of compared neighbors. This indicates that our lack of improvement in accuracy comes down to our distance metric being innappropriate for our data, even after applying feature normalization."
      ],
      "metadata": {
        "id": "uSvU0MqDDQbp"
      }
    }
  ]
}